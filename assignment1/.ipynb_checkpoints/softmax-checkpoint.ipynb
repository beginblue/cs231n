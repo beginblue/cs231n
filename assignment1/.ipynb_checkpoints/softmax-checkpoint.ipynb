{
 "cells": [
  {
   "cell_type": "markdown",
   "metadata": {},
   "source": [
    "# Softmax exercise\n",
    "\n",
    "*Complete and hand in this completed worksheet (including its outputs and any supporting code outside of the worksheet) with your assignment submission. For more details see the [assignments page](http://vision.stanford.edu/teaching/cs231n/assignments.html) on the course website.*\n",
    "\n",
    "This exercise is analogous to the SVM exercise. You will:\n",
    "\n",
    "- implement a fully-vectorized **loss function** for the Softmax classifier\n",
    "- implement the fully-vectorized expression for its **analytic gradient**\n",
    "- **check your implementation** with numerical gradient\n",
    "- use a validation set to **tune the learning rate and regularization** strength\n",
    "- **optimize** the loss function with **SGD**\n",
    "- **visualize** the final learned weights\n"
   ]
  },
  {
   "cell_type": "code",
   "execution_count": 1,
   "metadata": {},
   "outputs": [],
   "source": [
    "from __future__ import print_function\n",
    "import random\n",
    "import numpy as np\n",
    "from cs231n.data_utils import load_CIFAR10\n",
    "import matplotlib.pyplot as plt\n",
    "\n",
    "\n",
    "\n",
    "%matplotlib inline\n",
    "plt.rcParams['figure.figsize'] = (10.0, 8.0) # set default size of plots\n",
    "plt.rcParams['image.interpolation'] = 'nearest'\n",
    "plt.rcParams['image.cmap'] = 'gray'\n",
    "\n",
    "# for auto-reloading extenrnal modules\n",
    "# see http://stackoverflow.com/questions/1907993/autoreload-of-modules-in-ipython\n",
    "%load_ext autoreload\n",
    "%autoreload 2"
   ]
  },
  {
   "cell_type": "code",
   "execution_count": 2,
   "metadata": {},
   "outputs": [
    {
     "name": "stdout",
     "output_type": "stream",
     "text": [
      "Train data shape:  (49000, 3073)\n",
      "Train labels shape:  (49000,)\n",
      "Validation data shape:  (1000, 3073)\n",
      "Validation labels shape:  (1000,)\n",
      "Test data shape:  (1000, 3073)\n",
      "Test labels shape:  (1000,)\n",
      "dev data shape:  (500, 3073)\n",
      "dev labels shape:  (500,)\n"
     ]
    }
   ],
   "source": [
    "def get_CIFAR10_data(num_training=49000, num_validation=1000, num_test=1000, num_dev=500):\n",
    "    \"\"\"\n",
    "    Load the CIFAR-10 dataset from disk and perform preprocessing to prepare\n",
    "    it for the linear classifier. These are the same steps as we used for the\n",
    "    SVM, but condensed to a single function.  \n",
    "    \"\"\"\n",
    "    # Load the raw CIFAR-10 data\n",
    "    cifar10_dir = 'cs231n/datasets/cifar-10-batches-py'\n",
    "    \n",
    "    X_train, y_train, X_test, y_test = load_CIFAR10(cifar10_dir)\n",
    "    \n",
    "    # subsample the data\n",
    "    mask = list(range(num_training, num_training + num_validation))\n",
    "    X_val = X_train[mask]\n",
    "    y_val = y_train[mask]\n",
    "    mask = list(range(num_training))\n",
    "    X_train = X_train[mask]\n",
    "    y_train = y_train[mask]\n",
    "    mask = list(range(num_test))\n",
    "    X_test = X_test[mask]\n",
    "    y_test = y_test[mask]\n",
    "    mask = np.random.choice(num_training, num_dev, replace=False)\n",
    "    X_dev = X_train[mask]\n",
    "    y_dev = y_train[mask]\n",
    "    \n",
    "    # Preprocessing: reshape the image data into rows\n",
    "    X_train = np.reshape(X_train, (X_train.shape[0], -1))\n",
    "    X_val = np.reshape(X_val, (X_val.shape[0], -1))\n",
    "    X_test = np.reshape(X_test, (X_test.shape[0], -1))\n",
    "    X_dev = np.reshape(X_dev, (X_dev.shape[0], -1))\n",
    "    \n",
    "    # Normalize the data: subtract the mean image\n",
    "    mean_image = np.mean(X_train, axis = 0)\n",
    "    X_train -= mean_image\n",
    "    X_val -= mean_image\n",
    "    X_test -= mean_image\n",
    "    X_dev -= mean_image\n",
    "    \n",
    "    # add bias dimension and transform into columns\n",
    "    X_train = np.hstack([X_train, np.ones((X_train.shape[0], 1))])\n",
    "    X_val = np.hstack([X_val, np.ones((X_val.shape[0], 1))])\n",
    "    X_test = np.hstack([X_test, np.ones((X_test.shape[0], 1))])\n",
    "    X_dev = np.hstack([X_dev, np.ones((X_dev.shape[0], 1))])\n",
    "    \n",
    "    return X_train, y_train, X_val, y_val, X_test, y_test, X_dev, y_dev\n",
    "\n",
    "\n",
    "# Cleaning up variables to prevent loading data multiple times (which may cause memory issue)\n",
    "try:\n",
    "   del X_train, y_train\n",
    "   del X_test, y_test\n",
    "   print('Clear previously loaded data.')\n",
    "except:\n",
    "   pass\n",
    "\n",
    "# Invoke the above function to get our data.\n",
    "X_train, y_train, X_val, y_val, X_test, y_test, X_dev, y_dev = get_CIFAR10_data()\n",
    "print('Train data shape: ', X_train.shape)\n",
    "print('Train labels shape: ', y_train.shape)\n",
    "print('Validation data shape: ', X_val.shape)\n",
    "print('Validation labels shape: ', y_val.shape)\n",
    "print('Test data shape: ', X_test.shape)\n",
    "print('Test labels shape: ', y_test.shape)\n",
    "print('dev data shape: ', X_dev.shape)\n",
    "print('dev labels shape: ', y_dev.shape)"
   ]
  },
  {
   "cell_type": "markdown",
   "metadata": {},
   "source": [
    "## Softmax Classifier\n",
    "\n",
    "Your code for this section will all be written inside **cs231n/classifiers/softmax.py**. \n"
   ]
  },
  {
   "cell_type": "code",
   "execution_count": 3,
   "metadata": {},
   "outputs": [
    {
     "name": "stdout",
     "output_type": "stream",
     "text": [
      "loss: 2.382279\n",
      "sanity check: 2.302585\n"
     ]
    }
   ],
   "source": [
    "# First implement the naive softmax loss function with nested loops.\n",
    "# Open the file cs231n/classifiers/softmax.py and implement the\n",
    "# softmax_loss_naive function.\n",
    "\n",
    "from cs231n.classifiers.softmax import softmax_loss_naive\n",
    "import time\n",
    "\n",
    "# Generate a random softmax weight matrix and use it to compute the loss.\n",
    "W = np.random.randn(3073, 10) * 0.0001\n",
    "loss, grad = softmax_loss_naive(W, X_dev, y_dev, 0.0)\n",
    "\n",
    "# As a rough sanity check, our loss should be something close to -log(0.1).\n",
    "print('loss: %f' % loss)\n",
    "print('sanity check: %f' % (-np.log(0.1)))"
   ]
  },
  {
   "cell_type": "markdown",
   "metadata": {},
   "source": [
    "## Inline Question 1:\n",
    "Why do we expect our loss to be close to -log(0.1)? Explain briefly.**\n",
    "\n",
    "**Your answer:** *Fill this in*\n"
   ]
  },
  {
   "cell_type": "code",
   "execution_count": 4,
   "metadata": {},
   "outputs": [
    {
     "name": "stdout",
     "output_type": "stream",
     "text": [
      "numerical: 0.723995 analytic: 0.723995, relative error: 1.122203e-08\n",
      "numerical: 0.202422 analytic: 0.202422, relative error: 7.743186e-08\n",
      "numerical: 1.346344 analytic: 1.346344, relative error: 2.090135e-08\n",
      "numerical: -2.328236 analytic: -2.328236, relative error: 1.758288e-08\n",
      "numerical: -3.409883 analytic: -3.409883, relative error: 5.543956e-09\n",
      "numerical: -0.271731 analytic: -0.271731, relative error: 1.571461e-07\n",
      "numerical: 5.184180 analytic: 5.184180, relative error: 1.338714e-08\n",
      "numerical: 2.628862 analytic: 2.628862, relative error: 7.013907e-10\n",
      "numerical: 0.118643 analytic: 0.118643, relative error: 5.054406e-07\n",
      "numerical: -0.481510 analytic: -0.481510, relative error: 5.237215e-08\n",
      "----\n",
      "numerical: -5.619783 analytic: -5.621141, relative error: 1.208543e-04\n",
      "numerical: 0.663919 analytic: 0.647150, relative error: 1.279020e-02\n",
      "numerical: 1.192963 analytic: 1.196563, relative error: 1.506755e-03\n",
      "numerical: -0.544577 analytic: -0.551930, relative error: 6.706128e-03\n",
      "numerical: 0.432437 analytic: 0.434585, relative error: 2.476944e-03\n",
      "numerical: 3.558210 analytic: 3.546051, relative error: 1.711513e-03\n",
      "numerical: 3.383461 analytic: 3.397924, relative error: 2.132678e-03\n",
      "numerical: -0.142240 analytic: -0.136389, relative error: 2.099939e-02\n",
      "numerical: -0.352091 analytic: -0.352711, relative error: 8.795831e-04\n",
      "numerical: 1.400216 analytic: 1.388477, relative error: 4.209569e-03\n"
     ]
    }
   ],
   "source": [
    "# Complete the implementation of softmax_loss_naive and implement a (naive)\n",
    "# version of the gradient that uses nested loops.\n",
    "loss, grad = softmax_loss_naive(W, X_dev, y_dev, 0.0)\n",
    "\n",
    "# As we did for the SVM, use numeric gradient checking as a debugging tool.\n",
    "# The numeric gradient should be close to the analytic gradient.\n",
    "from cs231n.gradient_check import grad_check_sparse\n",
    "f = lambda w: softmax_loss_naive(w, X_dev, y_dev, 0.0)[0]\n",
    "grad_numerical = grad_check_sparse(f, W, grad, 10)\n",
    "print('----')\n",
    "# similar to SVM case, do another gradient check with regularization\n",
    "loss, grad = softmax_loss_naive(W, X_dev, y_dev, 5e1)\n",
    "f = lambda w: softmax_loss_naive(w, X_dev, y_dev, 5e1)[0]\n",
    "grad_numerical = grad_check_sparse(f, W, grad, 10)"
   ]
  },
  {
   "cell_type": "code",
   "execution_count": 37,
   "metadata": {},
   "outputs": [
    {
     "name": "stdout",
     "output_type": "stream",
     "text": [
      "naive loss: 2.382279e+00 computed in 0.157539s\n",
      "vectorized loss: 2.382279e+00 computed in 0.004468s\n",
      "Loss difference: 0.000000\n",
      "Gradient difference: 0.000000\n"
     ]
    }
   ],
   "source": [
    "# Now that we have a naive implementation of the softmax loss function and its gradient,\n",
    "# implement a vectorized version in softmax_loss_vectorized.\n",
    "# The two versions should compute the same results, but the vectorized version should be\n",
    "# much faster.\n",
    "tic = time.time()\n",
    "loss_naive, grad_naive = softmax_loss_naive(W, X_dev, y_dev, 0.000005)\n",
    "toc = time.time()\n",
    "print('naive loss: %e computed in %fs' % (loss_naive, toc - tic))\n",
    "\n",
    "from cs231n.classifiers.softmax import softmax_loss_vectorized\n",
    "tic = time.time()\n",
    "loss_vectorized, grad_vectorized = softmax_loss_vectorized(W, X_dev, y_dev, 0.000005)\n",
    "toc = time.time()\n",
    "print('vectorized loss: %e computed in %fs' % (loss_vectorized, toc - tic))\n",
    "\n",
    "# As we did for the SVM, we use the Frobenius norm to compare the two versions\n",
    "# of the gradient.\n",
    "grad_difference = np.linalg.norm(grad_naive - grad_vectorized, ord='fro')\n",
    "print('Loss difference: %f' % np.abs(loss_naive - loss_vectorized))\n",
    "print('Gradient difference: %f' % grad_difference)"
   ]
  },
  {
   "cell_type": "code",
   "execution_count": 44,
   "metadata": {},
   "outputs": [
    {
     "name": "stdout",
     "output_type": "stream",
     "text": [
      "1e-07 25000.0\n",
      "1e-07 27500.0\n",
      "1e-07 30000.0\n",
      "1e-07 32500.0\n",
      "1e-07 35000.0\n",
      "1e-07 37500.0\n",
      "1e-07 40000.0\n",
      "1e-07 42500.0\n",
      "1e-07 45000.0\n",
      "1e-07 47500.0\n",
      "2e-07 25000.0\n",
      "2e-07 27500.0\n",
      "2e-07 30000.0\n",
      "2e-07 32500.0\n",
      "2e-07 35000.0\n",
      "2e-07 37500.0\n",
      "2e-07 40000.0\n",
      "2e-07 42500.0\n",
      "2e-07 45000.0\n",
      "2e-07 47500.0\n",
      "3e-07 25000.0\n",
      "3e-07 27500.0\n",
      "3e-07 30000.0\n",
      "3e-07 32500.0\n",
      "3e-07 35000.0\n",
      "3e-07 37500.0\n",
      "3e-07 40000.0\n",
      "3e-07 42500.0\n",
      "3e-07 45000.0\n",
      "3e-07 47500.0\n",
      "4e-07 25000.0\n",
      "4e-07 27500.0\n",
      "4e-07 30000.0\n",
      "4e-07 32500.0\n",
      "4e-07 35000.0\n",
      "4e-07 37500.0\n",
      "4e-07 40000.0\n",
      "4e-07 42500.0\n",
      "4e-07 45000.0\n",
      "4e-07 47500.0\n",
      "5e-07 25000.0\n",
      "5e-07 27500.0\n",
      "5e-07 30000.0\n",
      "5e-07 32500.0\n",
      "5e-07 35000.0\n",
      "5e-07 37500.0\n",
      "5e-07 40000.0\n",
      "5e-07 42500.0\n",
      "5e-07 45000.0\n",
      "5e-07 47500.0\n",
      "lr 1.000000e-07 reg 2.500000e+04 train accuracy: 0.129980 val accuracy: 0.130000\n",
      "lr 1.000000e-07 reg 2.750000e+04 train accuracy: 0.156490 val accuracy: 0.165000\n",
      "lr 1.000000e-07 reg 3.000000e+04 train accuracy: 0.140531 val accuracy: 0.133000\n",
      "lr 1.000000e-07 reg 3.250000e+04 train accuracy: 0.148204 val accuracy: 0.141000\n",
      "lr 1.000000e-07 reg 3.500000e+04 train accuracy: 0.148776 val accuracy: 0.150000\n",
      "lr 1.000000e-07 reg 3.750000e+04 train accuracy: 0.154939 val accuracy: 0.174000\n",
      "lr 1.000000e-07 reg 4.000000e+04 train accuracy: 0.137673 val accuracy: 0.138000\n",
      "lr 1.000000e-07 reg 4.250000e+04 train accuracy: 0.156653 val accuracy: 0.168000\n",
      "lr 1.000000e-07 reg 4.500000e+04 train accuracy: 0.153980 val accuracy: 0.153000\n",
      "lr 1.000000e-07 reg 4.750000e+04 train accuracy: 0.149306 val accuracy: 0.175000\n",
      "lr 2.000000e-07 reg 2.500000e+04 train accuracy: 0.174204 val accuracy: 0.183000\n",
      "lr 2.000000e-07 reg 2.750000e+04 train accuracy: 0.179592 val accuracy: 0.198000\n",
      "lr 2.000000e-07 reg 3.000000e+04 train accuracy: 0.185306 val accuracy: 0.184000\n",
      "lr 2.000000e-07 reg 3.250000e+04 train accuracy: 0.183102 val accuracy: 0.183000\n",
      "lr 2.000000e-07 reg 3.500000e+04 train accuracy: 0.198918 val accuracy: 0.196000\n",
      "lr 2.000000e-07 reg 3.750000e+04 train accuracy: 0.183633 val accuracy: 0.183000\n",
      "lr 2.000000e-07 reg 4.000000e+04 train accuracy: 0.191449 val accuracy: 0.187000\n",
      "lr 2.000000e-07 reg 4.250000e+04 train accuracy: 0.202653 val accuracy: 0.216000\n",
      "lr 2.000000e-07 reg 4.500000e+04 train accuracy: 0.201000 val accuracy: 0.227000\n",
      "lr 2.000000e-07 reg 4.750000e+04 train accuracy: 0.199449 val accuracy: 0.192000\n",
      "lr 3.000000e-07 reg 2.500000e+04 train accuracy: 0.204429 val accuracy: 0.209000\n",
      "lr 3.000000e-07 reg 2.750000e+04 train accuracy: 0.218939 val accuracy: 0.224000\n",
      "lr 3.000000e-07 reg 3.000000e+04 train accuracy: 0.198041 val accuracy: 0.198000\n",
      "lr 3.000000e-07 reg 3.250000e+04 train accuracy: 0.214898 val accuracy: 0.219000\n",
      "lr 3.000000e-07 reg 3.500000e+04 train accuracy: 0.233286 val accuracy: 0.239000\n",
      "lr 3.000000e-07 reg 3.750000e+04 train accuracy: 0.216429 val accuracy: 0.199000\n",
      "lr 3.000000e-07 reg 4.000000e+04 train accuracy: 0.229388 val accuracy: 0.242000\n",
      "lr 3.000000e-07 reg 4.250000e+04 train accuracy: 0.247204 val accuracy: 0.263000\n",
      "lr 3.000000e-07 reg 4.500000e+04 train accuracy: 0.247735 val accuracy: 0.262000\n",
      "lr 3.000000e-07 reg 4.750000e+04 train accuracy: 0.241163 val accuracy: 0.253000\n",
      "lr 4.000000e-07 reg 2.500000e+04 train accuracy: 0.224714 val accuracy: 0.212000\n",
      "lr 4.000000e-07 reg 2.750000e+04 train accuracy: 0.247531 val accuracy: 0.257000\n",
      "lr 4.000000e-07 reg 3.000000e+04 train accuracy: 0.237735 val accuracy: 0.251000\n",
      "lr 4.000000e-07 reg 3.250000e+04 train accuracy: 0.250429 val accuracy: 0.262000\n",
      "lr 4.000000e-07 reg 3.500000e+04 train accuracy: 0.252796 val accuracy: 0.253000\n",
      "lr 4.000000e-07 reg 3.750000e+04 train accuracy: 0.256714 val accuracy: 0.264000\n",
      "lr 4.000000e-07 reg 4.000000e+04 train accuracy: 0.262510 val accuracy: 0.277000\n",
      "lr 4.000000e-07 reg 4.250000e+04 train accuracy: 0.264612 val accuracy: 0.259000\n",
      "lr 4.000000e-07 reg 4.500000e+04 train accuracy: 0.275388 val accuracy: 0.286000\n",
      "lr 4.000000e-07 reg 4.750000e+04 train accuracy: 0.283429 val accuracy: 0.319000\n",
      "lr 5.000000e-07 reg 2.500000e+04 train accuracy: 0.255673 val accuracy: 0.235000\n",
      "lr 5.000000e-07 reg 2.750000e+04 train accuracy: 0.273837 val accuracy: 0.293000\n",
      "lr 5.000000e-07 reg 3.000000e+04 train accuracy: 0.274469 val accuracy: 0.277000\n",
      "lr 5.000000e-07 reg 3.250000e+04 train accuracy: 0.281735 val accuracy: 0.284000\n",
      "lr 5.000000e-07 reg 3.500000e+04 train accuracy: 0.284184 val accuracy: 0.295000\n",
      "lr 5.000000e-07 reg 3.750000e+04 train accuracy: 0.289245 val accuracy: 0.296000\n",
      "lr 5.000000e-07 reg 4.000000e+04 train accuracy: 0.295776 val accuracy: 0.293000\n",
      "lr 5.000000e-07 reg 4.250000e+04 train accuracy: 0.308102 val accuracy: 0.329000\n",
      "lr 5.000000e-07 reg 4.500000e+04 train accuracy: 0.300939 val accuracy: 0.321000\n",
      "lr 5.000000e-07 reg 4.750000e+04 train accuracy: 0.309388 val accuracy: 0.321000\n",
      "best validation accuracy achieved during cross-validation: 0.329000\n"
     ]
    }
   ],
   "source": [
    "# Use the validation set to tune hyperparameters (regularization strength and\n",
    "# learning rate). You should experiment with different ranges for the learning\n",
    "# rates and regularization strengths; if you are careful you should be able to\n",
    "# get a classification accuracy of over 0.35 on the validation set.\n",
    "from cs231n.classifiers import Softmax\n",
    "results = {}\n",
    "best_val = -1\n",
    "best_softmax = None\n",
    "learning_rates = [1e-7, 5e-7]\n",
    "regularization_strengths = [2.5e4, 5e4]\n",
    "\n",
    "################################################################################\n",
    "# TODO:                                                                        #\n",
    "# Use the validation set to set the learning rate and regularization strength. #\n",
    "# This should be identical to the validation that you did for the SVM; save    #\n",
    "# the best trained softmax classifer in best_softmax.                          #\n",
    "################################################################################\n",
    "for lr in learning_rates:\n",
    "    for reg in regularization_strengths:\n",
    "        softmax = Softmax()\n",
    "        softmax.train(X_train,y_train,lr,reg,num_iters=100,batch_size=200, verbose=False)\n",
    "        y_pred_train = softmax.predict(X_train)\n",
    "        accuracy_train = np.mean(y_train==y_pred_train)\n",
    "        y_pred_val = softmax.predict(X_val)\n",
    "        accuracy_val = np.mean(y_pred_val==y_val)\n",
    "        print(lr,reg)\n",
    "        results[(float(lr),float(reg))]=(accuracy_train,accuracy_val)\n",
    "        if accuracy_val > best_val:\n",
    "            best_val = accuracy_val\n",
    "            best_softmax = softmax\n",
    "################################################################################\n",
    "#                              END OF YOUR CODE                                #\n",
    "################################################################################\n",
    "    \n",
    "# Print out results.\n",
    "for lr, reg in sorted(results):\n",
    "    train_accuracy, val_accuracy = results[(lr, reg)]\n",
    "    print('lr %e reg %e train accuracy: %f val accuracy: %f' % (\n",
    "                lr, reg, train_accuracy, val_accuracy))\n",
    "    \n",
    "print('best validation accuracy achieved during cross-validation: %f' % best_val)"
   ]
  },
  {
   "cell_type": "code",
   "execution_count": 45,
   "metadata": {},
   "outputs": [
    {
     "name": "stdout",
     "output_type": "stream",
     "text": [
      "softmax on raw pixels final test set accuracy: 0.304000\n"
     ]
    }
   ],
   "source": [
    "# evaluate on test set\n",
    "# Evaluate the best softmax on test set\n",
    "y_test_pred = best_softmax.predict(X_test)\n",
    "test_accuracy = np.mean(y_test == y_test_pred)\n",
    "print('softmax on raw pixels final test set accuracy: %f' % (test_accuracy, ))"
   ]
  },
  {
   "cell_type": "markdown",
   "metadata": {},
   "source": [
    "**Inline Question** - *True or False*\n",
    "\n",
    "It's possible to add a new datapoint to a training set that would leave the SVM loss unchanged, but this is not the case with the Softmax classifier loss.\n",
    "\n",
    "*Your answer*:\n",
    "\n",
    "*Your explanation*:"
   ]
  },
  {
   "cell_type": "code",
   "execution_count": 47,
   "metadata": {},
   "outputs": [
    {
     "data": {
      "image/png": "[encoded data removed]",
      "text/plain": [
       "<Figure size 432x288 with 10 Axes>"
      ]
     },
     "metadata": {
      "needs_background": "light"
     },
     "output_type": "display_data"
    }
   ],
   "source": [
    "# Visualize the learned weights for each class\n",
    "w = best_softmax.W[:-1,:] # strip out the bias\n",
    "w = w.reshape(32, 32, 3, 10)\n",
    "\n",
    "w_min, w_max = np.min(w), np.max(w)\n",
    "\n",
    "classes = ['plane', 'car', 'bird', 'cat', 'deer', 'dog', 'frog', 'horse', 'ship', 'truck']\n",
    "for i in range(10):\n",
    "    plt.subplot(2, 5, i + 1)\n",
    "    \n",
    "    # Rescale the weights to be between 0 and 255\n",
    "    wimg = 255.0 * (w[:, :, :, i].squeeze() - w_min) / (w_max - w_min)\n",
    "    plt.imshow(wimg.astype('uint8'))\n",
    "    plt.axis('off')\n",
    "    plt.title(classes[i])"
   ]
  }
 ],
 "metadata": {
  "kernelspec": {
   "display_name": "Python 3",
   "language": "python",
   "name": "python3"
  },
  "language_info": {
   "codemirror_mode": {
    "name": "ipython",
    "version": 3
   },
   "file_extension": ".py",
   "mimetype": "text/x-python",
   "name": "python",
   "nbconvert_exporter": "python",
   "pygments_lexer": "ipython3",
   "version": "3.6.6"
  }
 },
 "nbformat": 4,
 "nbformat_minor": 2
}
